{
 "cells": [
  {
   "cell_type": "code",
   "execution_count": 46,
   "id": "473b2f12",
   "metadata": {},
   "outputs": [],
   "source": [
    "import random\n",
    "# Import the NumPy module.\n",
    "import numpy as np\n",
    "# Import timeit.\n",
    "import timeit"
   ]
  },
  {
   "cell_type": "code",
   "execution_count": 25,
   "id": "089cfb31",
   "metadata": {},
   "outputs": [
    {
     "data": {
      "text/plain": [
       "12"
      ]
     },
     "execution_count": 25,
     "metadata": {},
     "output_type": "execute_result"
    }
   ],
   "source": [
    "random.randint(-90, 90)"
   ]
  },
  {
   "cell_type": "code",
   "execution_count": 26,
   "id": "1b70c013",
   "metadata": {},
   "outputs": [
    {
     "data": {
      "text/plain": [
       "0.5031212728945428"
      ]
     },
     "execution_count": 26,
     "metadata": {},
     "output_type": "execute_result"
    }
   ],
   "source": [
    "random.random()"
   ]
  },
  {
   "cell_type": "code",
   "execution_count": 37,
   "id": "32157238",
   "metadata": {},
   "outputs": [
    {
     "data": {
      "text/plain": [
       "[-27.80524162757793,\n",
       " 50.38102348071964,\n",
       " -63.3641067167739,\n",
       " 51.79462425119486,\n",
       " -45.89978712842219,\n",
       " 76.05890032953069,\n",
       " 4.199403187245808,\n",
       " 36.905292559921634,\n",
       " -68.31765604086173,\n",
       " 81.02156982235596]"
      ]
     },
     "execution_count": 37,
     "metadata": {},
     "output_type": "execute_result"
    }
   ],
   "source": [
    "x = 1\n",
    "latitudes = []\n",
    "while x < 11:\n",
    "    random_lat = random.randint(-90, 89) + random.random()\n",
    "    latitudes.append(random_lat)\n",
    "    x += 1    \n",
    "\n",
    "latitudes"
   ]
  },
  {
   "cell_type": "code",
   "execution_count": 38,
   "id": "8a810bb0",
   "metadata": {},
   "outputs": [
    {
     "data": {
      "text/plain": [
       "-21"
      ]
     },
     "execution_count": 38,
     "metadata": {},
     "output_type": "execute_result"
    }
   ],
   "source": [
    "random.randrange(-90, 90, step=3)"
   ]
  },
  {
   "cell_type": "code",
   "execution_count": 40,
   "id": "223a9a2c",
   "metadata": {},
   "outputs": [
    {
     "data": {
      "text/plain": [
       "62.888991498093844"
      ]
     },
     "execution_count": 40,
     "metadata": {},
     "output_type": "execute_result"
    }
   ],
   "source": [
    "random.uniform(-90, 90)"
   ]
  },
  {
   "cell_type": "code",
   "execution_count": 43,
   "id": "4effa657",
   "metadata": {},
   "outputs": [
    {
     "data": {
      "text/plain": [
       "13.02364679806189"
      ]
     },
     "execution_count": 43,
     "metadata": {},
     "output_type": "execute_result"
    }
   ],
   "source": [
    "np.random.uniform(-90.000, 90.000)"
   ]
  },
  {
   "cell_type": "code",
   "execution_count": 44,
   "id": "10ebea2d",
   "metadata": {},
   "outputs": [
    {
     "data": {
      "text/plain": [
       "43.24218979387342"
      ]
     },
     "execution_count": 44,
     "metadata": {},
     "output_type": "execute_result"
    }
   ],
   "source": [
    "np.random.uniform(low=-90, high=90)"
   ]
  },
  {
   "cell_type": "code",
   "execution_count": 45,
   "id": "7aa920e6",
   "metadata": {},
   "outputs": [
    {
     "data": {
      "text/plain": [
       "array([-49.14777892,  57.71782797, -63.68022909, -47.12921301,\n",
       "       -49.76826127,  13.94970968,  68.80164984,  -7.3204519 ,\n",
       "        67.19778073, -60.73923506, -57.78169263, -59.48055229,\n",
       "       -84.56624101, -43.45733603, -30.85461424,  75.53217881,\n",
       "       -65.31818534, -86.20992125,   0.95902065,  13.34054158,\n",
       "        14.50220728, -76.22744942,  56.80445661,  74.89092869,\n",
       "       -11.44513018,  77.62669351, -28.6206451 , -62.02107182,\n",
       "       -78.629586  ,  81.27905363, -88.5929394 , -46.12979291,\n",
       "       -59.1347149 , -29.9855675 ,  -9.46266294, -77.37490329,\n",
       "         7.80419315,  27.51870125,   1.60139045,  46.42234201,\n",
       "         1.03499669,  -8.62176092,  35.56432038,  33.85757921,\n",
       "        17.74882085,   8.56015342,  80.59303594, -80.62905915,\n",
       "        40.06480585, -20.31538355])"
      ]
     },
     "execution_count": 45,
     "metadata": {},
     "output_type": "execute_result"
    }
   ],
   "source": [
    "np.random.uniform(-90.000, 90.000, size=50)"
   ]
  },
  {
   "cell_type": "code",
   "execution_count": 47,
   "id": "a191bef5",
   "metadata": {},
   "outputs": [
    {
     "name": "stdout",
     "output_type": "stream",
     "text": [
      "13.2 µs ± 350 ns per loop (mean ± std. dev. of 7 runs, 100000 loops each)\n"
     ]
    }
   ],
   "source": [
    "%timeit np.random.uniform(-90.000, 90.000, size=1500)"
   ]
  },
  {
   "cell_type": "code",
   "execution_count": 48,
   "id": "31a80cc1",
   "metadata": {},
   "outputs": [
    {
     "name": "stdout",
     "output_type": "stream",
     "text": [
      "1.31 ms ± 86.7 µs per loop (mean ± std. dev. of 7 runs, 1000 loops each)\n"
     ]
    }
   ],
   "source": [
    "def latitudes(size):\n",
    "    latitudes = []\n",
    "    x = 0\n",
    "    while x < (size):\n",
    "        random_lat = random.randint(-90, 90) + random.random()\n",
    "        latitudes.append(random_lat)\n",
    "        x += 1\n",
    "    return latitudes\n",
    "# Call the function with 1500.\n",
    "%timeit latitudes(1500)"
   ]
  },
  {
   "cell_type": "code",
   "execution_count": null,
   "id": "b38e7f96",
   "metadata": {},
   "outputs": [],
   "source": []
  }
 ],
 "metadata": {
  "kernelspec": {
   "display_name": "PythonData",
   "language": "python",
   "name": "pythondata"
  },
  "language_info": {
   "codemirror_mode": {
    "name": "ipython",
    "version": 3
   },
   "file_extension": ".py",
   "mimetype": "text/x-python",
   "name": "python",
   "nbconvert_exporter": "python",
   "pygments_lexer": "ipython3",
   "version": "3.8.8"
  }
 },
 "nbformat": 4,
 "nbformat_minor": 5
}
